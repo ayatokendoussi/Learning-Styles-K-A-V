{
 "cells": [
  {
   "cell_type": "code",
   "execution_count": 1,
   "id": "5bbc1f02",
   "metadata": {},
   "outputs": [],
   "source": [
    "import re\n",
    "import pickle\n",
    "import pandas as pd\n",
    "from nltk.corpus import stopwords\n",
    "from nltk.stem import PorterStemmer\n",
    "from sklearn.preprocessing import LabelEncoder\n",
    "from sklearn.linear_model import LogisticRegression\n",
    "from sklearn.model_selection import train_test_split\n",
    "from sklearn.feature_extraction.text import CountVectorizer"
   ]
  },
  {
   "cell_type": "code",
   "execution_count": 2,
   "id": "c92dfff1",
   "metadata": {},
   "outputs": [],
   "source": [
    "# Initialize Variables\n",
    "\n",
    "# Initialize Stemming class to use 'stem' function\n",
    "ps = PorterStemmer()\n",
    "\n",
    "# Select the top n words occured in the dataset\n",
    "n_top_words = 550\n",
    "\n",
    "# Import english stopwords\n",
    "stopwords.words(\"english\")\n",
    "\n",
    "#nltk.download('stopwords') # Run this if 'english stopwords not found'\n",
    "\n",
    "# Read dataset\n",
    "dataset = pd.read_csv(\"dataset.csv\")"
   ]
  },
  {
   "cell_type": "code",
   "execution_count": 3,
   "id": "d5278373",
   "metadata": {},
   "outputs": [
    {
     "data": {
      "text/html": [
       "<div>\n",
       "<style scoped>\n",
       "    .dataframe tbody tr th:only-of-type {\n",
       "        vertical-align: middle;\n",
       "    }\n",
       "\n",
       "    .dataframe tbody tr th {\n",
       "        vertical-align: top;\n",
       "    }\n",
       "\n",
       "    .dataframe thead th {\n",
       "        text-align: right;\n",
       "    }\n",
       "</style>\n",
       "<table border=\"1\" class=\"dataframe\">\n",
       "  <thead>\n",
       "    <tr style=\"text-align: right;\">\n",
       "      <th></th>\n",
       "      <th>Sentence</th>\n",
       "      <th>Type</th>\n",
       "    </tr>\n",
       "  </thead>\n",
       "  <tbody>\n",
       "    <tr>\n",
       "      <th>0</th>\n",
       "      <td>Ali, who was two at the time, loved the story ...</td>\n",
       "      <td>Auditory</td>\n",
       "    </tr>\n",
       "    <tr>\n",
       "      <th>1</th>\n",
       "      <td>Look at my dad, spiffed up in jodhpurs, ready ...</td>\n",
       "      <td>Auditory</td>\n",
       "    </tr>\n",
       "    <tr>\n",
       "      <th>2</th>\n",
       "      <td>Believe me it's far more difficult to know wha...</td>\n",
       "      <td>Auditory</td>\n",
       "    </tr>\n",
       "    <tr>\n",
       "      <th>3</th>\n",
       "      <td>The Surrealists loved bad movies, seeing them ...</td>\n",
       "      <td>Auditory</td>\n",
       "    </tr>\n",
       "    <tr>\n",
       "      <th>4</th>\n",
       "      <td>He idolised prize-fighters, regarded racketeer...</td>\n",
       "      <td>Auditory</td>\n",
       "    </tr>\n",
       "  </tbody>\n",
       "</table>\n",
       "</div>"
      ],
      "text/plain": [
       "                                            Sentence      Type\n",
       "0  Ali, who was two at the time, loved the story ...  Auditory\n",
       "1  Look at my dad, spiffed up in jodhpurs, ready ...  Auditory\n",
       "2  Believe me it's far more difficult to know wha...  Auditory\n",
       "3  The Surrealists loved bad movies, seeing them ...  Auditory\n",
       "4  He idolised prize-fighters, regarded racketeer...  Auditory"
      ]
     },
     "execution_count": 3,
     "metadata": {},
     "output_type": "execute_result"
    }
   ],
   "source": [
    "dataset.head()"
   ]
  },
  {
   "cell_type": "code",
   "execution_count": 4,
   "id": "a9a1e0a3",
   "metadata": {},
   "outputs": [
    {
     "data": {
      "text/plain": [
       "<AxesSubplot:>"
      ]
     },
     "execution_count": 4,
     "metadata": {},
     "output_type": "execute_result"
    },
    {
     "data": {
      "image/png": "[encoded data removed]",
      "text/plain": [
       "<Figure size 432x288 with 1 Axes>"
      ]
     },
     "metadata": {
      "needs_background": "light"
     },
     "output_type": "display_data"
    }
   ],
   "source": [
    "# Visualize data distribution\n",
    "dataset['Type'].hist()"
   ]
  },
  {
   "cell_type": "code",
   "execution_count": 5,
   "id": "7d705f12",
   "metadata": {},
   "outputs": [],
   "source": [
    "# Function to preprocess text\n",
    "def clean(text):\n",
    "    text = re.sub(\"[^a-zA-z]\", \" \", text).lower()\n",
    "    text = text.split()\n",
    "    text = [ ps.stem(word) for word in text if word not in set(stopwords.words(\"english\"))]\n",
    "    text = \" \".join(text)\n",
    "    return text\n",
    "\n",
    "# Function to encode the text using an object of CountVectorizer\n",
    "def encode(text, cv):\n",
    "    encoded_text = cv.transform(list([text])).toarray()\n",
    "    return encoded_text\n",
    "\n",
    "# Function to decode the classification result\n",
    "def decode(result, label_encoder):\n",
    "    decoded_result = label_encoder.inverse_transform(result)[0]\n",
    "    return decoded_result"
   ]
  },
  {
   "cell_type": "code",
   "execution_count": 7,
   "id": "d3d9a378",
   "metadata": {},
   "outputs": [],
   "source": [
    "# Clean sentences\n",
    "sentences = dataset[\"Sentence\"].apply(clean)"
   ]
  },
  {
   "cell_type": "code",
   "execution_count": 8,
   "id": "358cb1cc",
   "metadata": {},
   "outputs": [],
   "source": [
    "# Preprocessing\n",
    "\n",
    "# Initialize CountVectorizer so it uses a specific number for top occuring words\n",
    "count_vector = CountVectorizer(max_features = n_top_words)\n",
    "\n",
    "# Transform all the sentences to a rows and vector form\n",
    "X = count_vector.fit_transform(sentences).toarray()\n",
    "\n",
    "# Set y (the output) to the second column of the dataset\n",
    "y = dataset.iloc[:, 1]\n",
    "\n",
    "# Initialize label encoder and encode the learning style labels\n",
    "label_enc = LabelEncoder()\n",
    "y = label_enc.fit_transform(y)\n",
    "\n",
    "# Split the dataset into training set and testing set\n",
    "X_train, X_test, y_train, y_test = train_test_split(X, y, test_size=0.2, random_state=42)"
   ]
  },
  {
   "cell_type": "code",
   "execution_count": 9,
   "id": "3f943614",
   "metadata": {},
   "outputs": [
    {
     "data": {
      "text/html": [
       "<style>#sk-container-id-1 {color: black;background-color: white;}#sk-container-id-1 pre{padding: 0;}#sk-container-id-1 div.sk-toggleable {background-color: white;}#sk-container-id-1 label.sk-toggleable__label {cursor: pointer;display: block;width: 100%;margin-bottom: 0;padding: 0.3em;box-sizing: border-box;text-align: center;}#sk-container-id-1 label.sk-toggleable__label-arrow:before {content: \"▸\";float: left;margin-right: 0.25em;color: #696969;}#sk-container-id-1 label.sk-toggleable__label-arrow:hover:before {color: black;}#sk-container-id-1 div.sk-estimator:hover label.sk-toggleable__label-arrow:before {color: black;}#sk-container-id-1 div.sk-toggleable__content {max-height: 0;max-width: 0;overflow: hidden;text-align: left;background-color: #f0f8ff;}#sk-container-id-1 div.sk-toggleable__content pre {margin: 0.2em;color: black;border-radius: 0.25em;background-color: #f0f8ff;}#sk-container-id-1 input.sk-toggleable__control:checked~div.sk-toggleable__content {max-height: 200px;max-width: 100%;overflow: auto;}#sk-container-id-1 input.sk-toggleable__control:checked~label.sk-toggleable__label-arrow:before {content: \"▾\";}#sk-container-id-1 div.sk-estimator input.sk-toggleable__control:checked~label.sk-toggleable__label {background-color: #d4ebff;}#sk-container-id-1 div.sk-label input.sk-toggleable__control:checked~label.sk-toggleable__label {background-color: #d4ebff;}#sk-container-id-1 input.sk-hidden--visually {border: 0;clip: rect(1px 1px 1px 1px);clip: rect(1px, 1px, 1px, 1px);height: 1px;margin: -1px;overflow: hidden;padding: 0;position: absolute;width: 1px;}#sk-container-id-1 div.sk-estimator {font-family: monospace;background-color: #f0f8ff;border: 1px dotted black;border-radius: 0.25em;box-sizing: border-box;margin-bottom: 0.5em;}#sk-container-id-1 div.sk-estimator:hover {background-color: #d4ebff;}#sk-container-id-1 div.sk-parallel-item::after {content: \"\";width: 100%;border-bottom: 1px solid gray;flex-grow: 1;}#sk-container-id-1 div.sk-label:hover label.sk-toggleable__label {background-color: #d4ebff;}#sk-container-id-1 div.sk-serial::before {content: \"\";position: absolute;border-left: 1px solid gray;box-sizing: border-box;top: 0;bottom: 0;left: 50%;z-index: 0;}#sk-container-id-1 div.sk-serial {display: flex;flex-direction: column;align-items: center;background-color: white;padding-right: 0.2em;padding-left: 0.2em;position: relative;}#sk-container-id-1 div.sk-item {position: relative;z-index: 1;}#sk-container-id-1 div.sk-parallel {display: flex;align-items: stretch;justify-content: center;background-color: white;position: relative;}#sk-container-id-1 div.sk-item::before, #sk-container-id-1 div.sk-parallel-item::before {content: \"\";position: absolute;border-left: 1px solid gray;box-sizing: border-box;top: 0;bottom: 0;left: 50%;z-index: -1;}#sk-container-id-1 div.sk-parallel-item {display: flex;flex-direction: column;z-index: 1;position: relative;background-color: white;}#sk-container-id-1 div.sk-parallel-item:first-child::after {align-self: flex-end;width: 50%;}#sk-container-id-1 div.sk-parallel-item:last-child::after {align-self: flex-start;width: 50%;}#sk-container-id-1 div.sk-parallel-item:only-child::after {width: 0;}#sk-container-id-1 div.sk-dashed-wrapped {border: 1px dashed gray;margin: 0 0.4em 0.5em 0.4em;box-sizing: border-box;padding-bottom: 0.4em;background-color: white;}#sk-container-id-1 div.sk-label label {font-family: monospace;font-weight: bold;display: inline-block;line-height: 1.2em;}#sk-container-id-1 div.sk-label-container {text-align: center;}#sk-container-id-1 div.sk-container {/* jupyter's `normalize.less` sets `[hidden] { display: none; }` but bootstrap.min.css set `[hidden] { display: none !important; }` so we also need the `!important` here to be able to override the default hidden behavior on the sphinx rendered scikit-learn.org. See: https://github.com/scikit-learn/scikit-learn/issues/21755 */display: inline-block !important;position: relative;}#sk-container-id-1 div.sk-text-repr-fallback {display: none;}</style><div id=\"sk-container-id-1\" class=\"sk-top-container\"><div class=\"sk-text-repr-fallback\"><pre>LogisticRegression()</pre><b>In a Jupyter environment, please rerun this cell to show the HTML representation or trust the notebook. <br />On GitHub, the HTML representation is unable to render, please try loading this page with nbviewer.org.</b></div><div class=\"sk-container\" hidden><div class=\"sk-item\"><div class=\"sk-estimator sk-toggleable\"><input class=\"sk-toggleable__control sk-hidden--visually\" id=\"sk-estimator-id-1\" type=\"checkbox\" checked><label for=\"sk-estimator-id-1\" class=\"sk-toggleable__label sk-toggleable__label-arrow\">LogisticRegression</label><div class=\"sk-toggleable__content\"><pre>LogisticRegression()</pre></div></div></div></div></div>"
      ],
      "text/plain": [
       "LogisticRegression()"
      ]
     },
     "execution_count": 9,
     "metadata": {},
     "output_type": "execute_result"
    }
   ],
   "source": [
    "# Bulding the model and applying it to the encoded data\n",
    "classifier = LogisticRegression()\n",
    "classifier.fit(X_train, y_train)"
   ]
  },
  {
   "cell_type": "code",
   "execution_count": 10,
   "id": "28126ba8",
   "metadata": {},
   "outputs": [
    {
     "name": "stdout",
     "output_type": "stream",
     "text": [
      "Model score = 94.30420711974111\n"
     ]
    }
   ],
   "source": [
    "# Evaluating the model accuracy\n",
    "score = classifier.score(X_test, y_test) * 100\n",
    "print(\"Model score = \" + str(score))"
   ]
  },
  {
   "cell_type": "code",
   "execution_count": 11,
   "id": "cba27b3e",
   "metadata": {},
   "outputs": [
    {
     "name": "stdout",
     "output_type": "stream",
     "text": [
      "Kinesthetic\n",
      "Visual\n",
      "Auditory\n"
     ]
    }
   ],
   "source": [
    "# Testing the model on 3 samples\n",
    "\n",
    "# Initialize data\n",
    "sentence1 = \"I like to try out things to understand how it works, 'experiencing' is my power to learn\"\n",
    "sentence2 = \"All what we do is visualizing how things work and imagine new possibilities\"\n",
    "sentence3 = \"I hear the wind call my name, the sound that leads me home again\"\n",
    "\n",
    "# Preprocess & Encode data\n",
    "sample1 = encode(clean(sentence1), count_vector)\n",
    "sample2 = encode(clean(sentence2), count_vector)\n",
    "sample3 = encode(clean(sentence3), count_vector)\n",
    "\n",
    "# Classify & Decode results\n",
    "print( decode(classifier.predict(sample1), label_enc) ) # Kinesthetic\n",
    "print( decode(classifier.predict(sample2), label_enc) ) # Visual\n",
    "print( decode(classifier.predict(sample3), label_enc) ) # Auditory"
   ]
  },
  {
   "cell_type": "code",
   "execution_count": 12,
   "id": "334231cd",
   "metadata": {},
   "outputs": [],
   "source": [
    "# Save model\n",
    "with open(\"classifier.pkl\", 'wb') as file:\n",
    "        pickle.dump(classifier, file)"
   ]
  }
 ],
 "metadata": {
  "kernelspec": {
   "display_name": "Python 3 (ipykernel)",
   "language": "python",
   "name": "python3"
  },
  "language_info": {
   "codemirror_mode": {
    "name": "ipython",
    "version": 3
   },
   "file_extension": ".py",
   "mimetype": "text/x-python",
   "name": "python",
   "nbconvert_exporter": "python",
   "pygments_lexer": "ipython3",
   "version": "3.9.7"
  }
 },
 "nbformat": 4,
 "nbformat_minor": 5
}
